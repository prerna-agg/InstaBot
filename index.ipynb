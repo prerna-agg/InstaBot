{
 "cells": [
  {
   "cell_type": "code",
   "execution_count": null,
   "metadata": {},
   "outputs": [],
   "source": [
    "%run configs.ipynb\n",
    "from selenium import webdriver\n",
    "from selenium.webdriver.support.ui import WebDriverWait\n",
    "from selenium.webdriver.support import expected_conditions as EC\n",
    "from selenium.webdriver.common.by import By\n",
    "from selenium.common.exceptions import NoSuchElementException\n",
    "from selenium.common.exceptions import TimeoutException\n",
    "from bs4 import BeautifulSoup\n",
    "import matplotlib.pyplot as plt\n",
    "import requests\n",
    "import time\n",
    "import re\n",
    "import datetime\n",
    "import pandas as pd\n",
    "import csv\n",
    "base='https://www.instagram.com'\n"
   ]
  },
  {
   "cell_type": "markdown",
   "metadata": {},
   "source": [
    "# Project 1 begins ..."
   ]
  },
  {
   "cell_type": "code",
   "execution_count": null,
   "metadata": {},
   "outputs": [],
   "source": [
    "driver=webdriver.Chrome(executable_path='C:/Users/HP/Desktop/chromedriver_win32 (1)/chromedriver')\n",
    "driver.maximize_window()"
   ]
  },
  {
   "cell_type": "code",
   "execution_count": null,
   "metadata": {},
   "outputs": [],
   "source": [
    "driver.get('https://www.instagram.com/')"
   ]
  },
  {
   "cell_type": "markdown",
   "metadata": {},
   "source": [
    "# 1. Social Login Using Facebook"
   ]
  },
  {
   "cell_type": "code",
   "execution_count": null,
   "metadata": {},
   "outputs": [],
   "source": [
    "#social login using facebook\n",
    "def login(driver):\n",
    "    facebookicon=driver.find_element_by_class_name('KPnG0')\n",
    "    facebookicon.click()\n",
    "    ## explicit wait\n",
    "    ## create object of class WebDriver wait\n",
    "    wait=WebDriverWait(driver,15)\n",
    "    wait.until(EC.presence_of_element_located((By.NAME,'email')))\n",
    "\n",
    "    email=driver.find_element_by_name('email')\n",
    "    password=driver.find_element_by_name('pass')\n",
    "    email.click()\n",
    "    email.clear()\n",
    "    email.send_keys(useremail) #SAMPLE USEREMAIL\n",
    "    password.click()\n",
    "    password.clear()\n",
    "    password.send_keys(userpassword) # SAMPLE PASSWORD\n",
    "    email.submit()"
   ]
  },
  {
   "cell_type": "code",
   "execution_count": null,
   "metadata": {},
   "outputs": [],
   "source": [
    "login(driver)"
   ]
  },
  {
   "cell_type": "markdown",
   "metadata": {},
   "source": [
    "# Search a Word"
   ]
  },
  {
   "cell_type": "code",
   "execution_count": null,
   "metadata": {},
   "outputs": [],
   "source": [
    "# To search\n",
    "def searchWord(driver,word):\n",
    "    div=driver.find_element_by_class_name('eyXLr')\n",
    "    div.click()\n",
    "    input=driver.find_element_by_class_name('XTCLo')\n",
    "    input.clear()\n",
    "    input.send_keys(word)\n",
    "    \n",
    "    "
   ]
  },
  {
   "cell_type": "markdown",
   "metadata": {},
   "source": [
    "# Close Search Field"
   ]
  },
  {
   "cell_type": "code",
   "execution_count": null,
   "metadata": {},
   "outputs": [],
   "source": [
    "# to close the search field\n",
    "def closeSearchField(driver):\n",
    "    try:\n",
    "        div=driver.find_element_by_class_name('aIYm8')\n",
    "        div.click()\n",
    "    except:\n",
    "        pass"
   ]
  },
  {
   "cell_type": "code",
   "execution_count": null,
   "metadata": {
    "tags": []
   },
   "outputs": [],
   "source": [
    "searchWord(driver,'food')"
   ]
  },
  {
   "cell_type": "markdown",
   "metadata": {},
   "source": [
    "# 2. Searching and Printing the list appeared "
   ]
  },
  {
   "cell_type": "code",
   "execution_count": null,
   "metadata": {},
   "outputs": [],
   "source": [
    "# to print the handle list obtained after searching the word\n",
    "def printHandleList(driver,key):\n",
    "    searchWord(driver,key)  # searches word\n",
    "    time.sleep(5)\n",
    "    handle_list=driver.find_elements_by_class_name('yCE8d')\n",
    "    root=BeautifulSoup(driver.page_source,'lxml')\n",
    "    elements=root.find_all('a',class_='yCE8d')\n",
    "    handleSet=[]\n",
    "    for ele in elements:\n",
    "        if not ele.find('span',class_='coreSpriteHashtag'):\n",
    "            handleSet.append(ele.find('span',class_='Ap253').string)\n",
    "#             print(ele.find('span',class_='Ap253').string)\n",
    "    \n",
    "    return handleSet\n"
   ]
  },
  {
   "cell_type": "code",
   "execution_count": null,
   "metadata": {},
   "outputs": [],
   "source": [
    "# Type for “food” in search bar and print all the names of the Instagram Handles that are displayed in list after typing “food”\n",
    "# Note : Make sure to avoid printing hashtags\n",
    "\n",
    "print(printHandleList(driver,'food'))"
   ]
  },
  {
   "cell_type": "markdown",
   "metadata": {},
   "source": [
    "# 3. Search And Open Handler"
   ]
  },
  {
   "cell_type": "code",
   "execution_count": null,
   "metadata": {},
   "outputs": [],
   "source": [
    "def searchAndOpenHandle(driver,handleName):\n",
    "    searchWord(driver,handleName)\n",
    "    wait=WebDriverWait(driver,10)\n",
    "    wait.until(EC.presence_of_element_located((By.CLASS_NAME,'yCE8d')))\n",
    "    handle_list=driver.find_elements_by_class_name('yCE8d')\n",
    "    root=BeautifulSoup(driver.page_source,'lxml')\n",
    "    elements=root.find_all('a',class_='yCE8d')\n",
    "    links=set()\n",
    "    for i in range(len(elements)):\n",
    "        if(elements[i].find(class_='Ap253').string==handleName):\n",
    "            handle_list[i].click()\n",
    "            break\n",
    "    closeSearchField(driver)\n",
    "    "
   ]
  },
  {
   "cell_type": "code",
   "execution_count": null,
   "metadata": {},
   "outputs": [],
   "source": [
    "# Searching and Opening a profile using \n",
    "# Open profile of “sodelhi” \n",
    "searchAndOpenHandle(driver,'sodelhi')"
   ]
  },
  {
   "cell_type": "markdown",
   "metadata": {},
   "source": [
    "# 4.1 Follow a handler"
   ]
  },
  {
   "cell_type": "code",
   "execution_count": null,
   "metadata": {},
   "outputs": [],
   "source": [
    "def follow(driver,handleName):\n",
    "    searchAndOpenHandle(driver,handleName)\n",
    "    try :\n",
    "        driver.find_element_by_class_name('glyphsSpriteFriend_Follow')\n",
    "        print('Already Following')\n",
    "    except NoSuchElementException :\n",
    "        driver.find_element_by_class_name('_5f5mN').click()\n",
    "        \n",
    "    \n",
    "         "
   ]
  },
  {
   "cell_type": "markdown",
   "metadata": {},
   "source": [
    "# 4.2 Unfollow a handler"
   ]
  },
  {
   "cell_type": "code",
   "execution_count": null,
   "metadata": {},
   "outputs": [],
   "source": [
    "def unfollow(driver,handleName):\n",
    "    searchAndOpenHandle(driver,handleName)\n",
    "    try :\n",
    "        ele=driver.find_element_by_class_name('glyphsSpriteFriend_Follow')\n",
    "        ele.click()\n",
    "        wait=WebDriverWait(driver,10)\n",
    "        wait.until(EC.presence_of_element_located((By.CLASS_NAME,'-Cab_')))\n",
    "        unfollow=driver.find_element_by_class_name('-Cab_')\n",
    "        unfollow.click()\n",
    "    except NoSuchElementException :\n",
    "        print('Already Unfollowing')\n",
    "        "
   ]
  },
  {
   "cell_type": "code",
   "execution_count": null,
   "metadata": {},
   "outputs": [],
   "source": [
    "# Open the Instagram Handle of “So Delhi”\n",
    "# Start following it. Print a message if you are already following\n",
    "follow(driver,'sodelhi')"
   ]
  },
  {
   "cell_type": "code",
   "execution_count": null,
   "metadata": {},
   "outputs": [],
   "source": [
    "follow(driver,'sodelhi')"
   ]
  },
  {
   "cell_type": "code",
   "execution_count": null,
   "metadata": {},
   "outputs": [],
   "source": [
    "# unfollow the instagram handle. Print a message if you have already unfollowed.\n",
    "unfollow(driver,'sodelhi')"
   ]
  },
  {
   "cell_type": "markdown",
   "metadata": {},
   "source": [
    "# 5.1 Like top 30 posts "
   ]
  },
  {
   "cell_type": "code",
   "execution_count": null,
   "metadata": {},
   "outputs": [],
   "source": [
    "def likePosts(driver,handleName):\n",
    "    searchAndOpenHandle(driver,handleName)\n",
    "    time.sleep(5)\n",
    "    count=0\n",
    "    flag=0\n",
    "    while True:\n",
    "        bodyHeight=driver.execute_script('return document.body.scrollHeight;')\n",
    "#         print(bodyHeight)\n",
    "        posts=driver.find_elements_by_class_name('_9AhH0')\n",
    "        for post in posts[count:]:\n",
    "            post.click()\n",
    "            wait=WebDriverWait(driver,10)\n",
    "#             wait.until(EC.presence_of_element_located((By.CLASS_NAME,'fr66n')))\n",
    "            wait.until(EC.visibility_of_element_located((By.XPATH,'//span[@class=\"fr66n\"]//*[name()=\"svg\"]')))\n",
    "#             heart=driver.find_element_by_xpath('//span[@class=\"fr66n\")]//svg[@class=\"_8-yf5\"]')\n",
    "            heart=driver.find_element_by_xpath('//span[@class=\"fr66n\"]//*[name()=\"svg\"]')\n",
    "#             print(heart.get_attribute('aria-label'))\n",
    "            if heart.get_attribute('aria-label')=='Unlike':\n",
    "                print('already liked')\n",
    "            else:\n",
    "                heart.click()\n",
    "            close= driver.find_element_by_xpath('//div[contains(@class,\"yiMZG\")]//*[name()=\"svg\"]')\n",
    "#             driver.find_element_by_class_name('yiMZG')\n",
    "            close.click()\n",
    "            count=count+1\n",
    "#             print(count)\n",
    "            if count==30:\n",
    "                flag=1\n",
    "                break\n",
    "        if flag==1:\n",
    "            break\n",
    "        else:\n",
    "            driver.execute_script('window.scrollTo(0,arguments[0]);',bodyHeight)\n"
   ]
  },
  {
   "cell_type": "code",
   "execution_count": null,
   "metadata": {
    "scrolled": true
   },
   "outputs": [],
   "source": [
    "likePosts(driver,'dilsefoodie')"
   ]
  },
  {
   "cell_type": "markdown",
   "metadata": {},
   "source": [
    "# 5.2 UnLike top 30 posts "
   ]
  },
  {
   "cell_type": "code",
   "execution_count": null,
   "metadata": {},
   "outputs": [],
   "source": [
    "def unlikePosts(driver,handleName):\n",
    "    searchAndOpenHandle(driver,handleName)\n",
    "    time.sleep(5)\n",
    "    count=0\n",
    "    flag=0\n",
    "    while True:\n",
    "        bodyHeight=driver.execute_script('return document.body.scrollHeight;')\n",
    "#         print(bodyHeight)\n",
    "        posts=driver.find_elements_by_class_name('_9AhH0')\n",
    "        for post in posts[count:]:\n",
    "            post.click()\n",
    "            wait=WebDriverWait(driver,10)\n",
    "            wait.until(EC.visibility_of_element_located((By.XPATH,'//span[@class=\"fr66n\"]//*[name()=\"svg\"]')))\n",
    "            heart=driver.find_element_by_xpath('//span[@class=\"fr66n\"]//*[name()=\"svg\"]')\n",
    "            if heart.get_attribute('aria-label')=='Like':\n",
    "                print('already unliked')\n",
    "            else:\n",
    "                heart.click()\n",
    "            close= driver.find_element_by_xpath('//div[contains(@class,\"yiMZG\")]//*[name()=\"svg\"]')\n",
    "            close.click()\n",
    "            count=count+1\n",
    "            if count==30:\n",
    "                flag=1\n",
    "                break\n",
    "        if flag==1:\n",
    "            break\n",
    "        else:\n",
    "            driver.execute_script('window.scrollTo(0,arguments[0]);',bodyHeight)\n"
   ]
  },
  {
   "cell_type": "code",
   "execution_count": null,
   "metadata": {},
   "outputs": [],
   "source": [
    "unlikePosts(driver,'dilsefoodie')"
   ]
  },
  {
   "cell_type": "markdown",
   "metadata": {},
   "source": [
    "# 6. Extract list of followers"
   ]
  },
  {
   "cell_type": "code",
   "execution_count": null,
   "metadata": {},
   "outputs": [],
   "source": [
    "def listFollowers(driver,handleName):\n",
    "    searchAndOpenHandle(driver,handleName)\n",
    "    time.sleep(2)\n",
    "    follower=driver.find_element_by_partial_link_text(' followers')\n",
    "    follower.click()\n",
    "    \n",
    "    wait=WebDriverWait(driver,10)\n",
    "    wait.until(EC.presence_of_element_located((By.CLASS_NAME,'sqdOP')))\n",
    "    prevHeight=0\n",
    "    bodyHeight=driver.execute_script('return document.getElementsByClassName(\"isgrP\")[0].scrollHeight;')\n",
    "    \n",
    "    count=0\n",
    "    followers=set() # who are users followers\n",
    "    following=set() # who the user follows\n",
    "    while True:\n",
    "        \n",
    "        flag=0\n",
    "        bodyHeight=driver.execute_script('return document.getElementsByClassName(\"isgrP\")[0].scrollHeight;')\n",
    "        # if there are less than 500 followers\n",
    "        if bodyHeight==prevHeight:\n",
    "            close=driver.find_element_by_xpath('//div[@class=\"WaOAr\"]//*[name()=\"svg\"]')\n",
    "            close.click()\n",
    "            return (followers,following)\n",
    "        followButtons=driver.find_elements_by_xpath('//div[@class=\"isgrP\"]//button[contains(@class,\"sqdOP\")]')\n",
    "        usernames=driver.find_elements_by_class_name('FPmhX')\n",
    "        \n",
    "        for i in range(count,len(followButtons)):\n",
    "            if followButtons[i].get_attribute('innerHTML')=='Follow':\n",
    "                followers.add(usernames[i].get_attribute('innerHTML'))\n",
    "            else:\n",
    "                followers.add(usernames[i].get_attribute('innerHTML'))\n",
    "                following.add(usernames[i].get_attribute('innerHTML'))\n",
    "            \n",
    "            count=count+1\n",
    "            if count==500:\n",
    "                flag=1\n",
    "                break\n",
    "                \n",
    "        if flag==1:\n",
    "            close=driver.find_element_by_xpath('//div[@class=\"WaOAr\"]//*[name()=\"svg\"]')\n",
    "            close.click()\n",
    "            return (followers,following)\n",
    "            break\n",
    "        else:\n",
    "            prevHeight=bodyHeight\n",
    "            driver.execute_script('document.getElementsByClassName(\"isgrP\")[0].scrollTo(0,arguments[0]);',bodyHeight)\n",
    "            time.sleep(5)\n",
    "            "
   ]
  },
  {
   "cell_type": "code",
   "execution_count": null,
   "metadata": {},
   "outputs": [],
   "source": [
    "#Extract the usernames of the first 500 followers of ‘foodtalkindia’ and ‘sodelhi’.\n",
    "# Now print all the followers of “foodtalkindia” that you are following\n",
    "\n",
    "foodtalkindia=listFollowers(driver,'foodtalkindia')\n",
    "print(foodtalkindia[0],foodtalkindia[1])\n",
    "sodelhi=listFollowers(driver,'sodelhi')\n",
    "print(sodelhi[0],sodelhi[1])\n",
    "user=listFollowers(driver,'paruprerna')\n",
    "print(user[0],user[1])\n"
   ]
  },
  {
   "cell_type": "code",
   "execution_count": null,
   "metadata": {},
   "outputs": [],
   "source": [
    "#  print all the followers of “foodtalkindia” that you are following but those who don’t follow you.\n",
    "print(user[0].intersection(foodtalkindia[1]))\n"
   ]
  },
  {
   "cell_type": "markdown",
   "metadata": {},
   "source": [
    "# 7. Story"
   ]
  },
  {
   "cell_type": "code",
   "execution_count": null,
   "metadata": {},
   "outputs": [],
   "source": [
    "# Check the story of ‘coding.ninjas’. Consider the following Scenarios and print error messages accordingly -\n",
    "# If You have already seen the story.\n",
    "# Or The user has no story.\n",
    "# Or View the story if not yet seen.\n",
    "def storyCheck(driver,handleName):\n",
    "    searchAndOpenHandle(driver,handleName)\n",
    "    time.sleep(5)\n",
    "    if driver.find_element_by_css_selector('div.RR-M- canvas').get_attribute('height')=='208':\n",
    "        print('You have already seen the story')\n",
    "    elif driver.find_element_by_css_selector('div.RR-M- canvas').get_attribute('height')=='210':\n",
    "        driver.find_element_by_class_name('RR-M-').click()\n",
    "        try:\n",
    "            WebDriverWait(driver,10).until(EC.presence_of_element_located((By.CLASS_NAME,\"_8XqED\")))\n",
    "            is_status=driver.find_element_by_class_name('_8XqED')\n",
    "            print('story not seen')\n",
    "        except:\n",
    "            print('no story')\n",
    "    \n",
    "            "
   ]
  },
  {
   "cell_type": "code",
   "execution_count": null,
   "metadata": {},
   "outputs": [],
   "source": [
    "storyCheck(driver,'coding.ninjas')"
   ]
  },
  {
   "cell_type": "markdown",
   "metadata": {},
   "source": [
    "# Project 2nd begins.........."
   ]
  },
  {
   "cell_type": "markdown",
   "metadata": {},
   "source": [
    "\n",
    "# Top 10 handlers with their followers number as a dictionary\n",
    "1.Now your friend has followed a lot of different food bloggers, he needs to analyse the habits of these bloggers.\n",
    "From the list of instagram handles you obtained when you searched ‘food’ in previous project. Open the first 10 handles and find the top 5 which have the highest number of followers\n",
    "Now Find the number of posts these handles have done in the previous 3 days.\n",
    "Depict this information using a suitable graph."
   ]
  },
  {
   "cell_type": "code",
   "execution_count": null,
   "metadata": {},
   "outputs": [],
   "source": [
    "\n",
    "def topHandles(key):\n",
    "    handles=printHandleList(driver,key)\n",
    "    closeSearchField(driver)\n",
    "    count=0\n",
    "    hdict={}\n",
    "    for handle in handles:\n",
    "        searchAndOpenHandle(driver,handle)\n",
    "        time.sleep(3)\n",
    "        followers=driver.find_element_by_partial_link_text('followers')\n",
    "        soup=BeautifulSoup(followers.get_attribute('innerHTML'),'lxml')\n",
    "        num=re.sub(',',\"\",soup.span[\"title\"])\n",
    "        hdict[handle]=int(re.search('\\d+',num).group())\n",
    "        count=count+1\n",
    "        if count==10:\n",
    "            break\n",
    "    \n",
    "    return hdict\n",
    "    "
   ]
  },
  {
   "cell_type": "code",
   "execution_count": null,
   "metadata": {},
   "outputs": [],
   "source": [
    "res=topHandles('food')\n",
    "# to find the top 5 handlers with highest number of followers\n",
    "dataf=pd.DataFrame(list(res.values()),list(res.keys()))\n",
    "dataf=dataf.sort_values(by=[0],ascending=False)\n",
    "print(dataf.index[0:5])\n",
    "\n"
   ]
  },
  {
   "cell_type": "markdown",
   "metadata": {},
   "source": [
    "# number of posts in last 3 days"
   ]
  },
  {
   "cell_type": "code",
   "execution_count": null,
   "metadata": {},
   "outputs": [],
   "source": [
    "def numberOfPosts(handles):\n",
    "    postdict={}\n",
    "    for handle in handles:\n",
    "        searchAndOpenHandle(driver,handle)\n",
    "        time.sleep(5)\n",
    "        flag=0\n",
    "        postcount=0\n",
    "        prevHeight=0\n",
    "        while True:\n",
    "            bodyHeight=driver.execute_script('return document.body.scrollHeight;')\n",
    "            # if all posts are visited\n",
    "            if bodyHeight==prevHeight:\n",
    "                postdict[handle]=postcount\n",
    "                close=driver.find_element_by_xpath('//div[@class=\"WaOAr\"]//*[name()=\"svg\"]')\n",
    "                close.click()\n",
    "                return\n",
    "            posts=driver.find_elements_by_class_name('_9AhH0')\n",
    "            count=0\n",
    "            for post in posts[count:]:\n",
    "                post.click()\n",
    "                wait=WebDriverWait(driver,10)\n",
    "                wait.until(EC.visibility_of_element_located((By.CLASS_NAME,'_1o9PC')))\n",
    "                t=driver.find_element_by_class_name('_1o9PC')\n",
    "                d1=datetime.datetime.now()\n",
    "                z=t\n",
    "                t=t.get_attribute('datetime').split('T')[0].split('-')\n",
    "                z=z.get_attribute('datetime').split('T')[1].split('Z')[0].split(':')\n",
    "                d2=datetime.datetime(int(t[0]),int(t[1]),int(t[2]),int(z[0]),int(z[1]))\n",
    "#                 print((d1-d2).days)\n",
    "                close= driver.find_element_by_xpath('//div[contains(@class,\"yiMZG\")]//*[name()=\"svg\"]')\n",
    "                close.click()\n",
    "#                 postcount=postcount+1\n",
    "                count=count+1\n",
    "                if (d1-d2).days>3:\n",
    "                    flag=1\n",
    "                    break\n",
    "                else:\n",
    "                    postcount=postcount+1\n",
    "            if flag==1:\n",
    "                postdict[handle]=postcount\n",
    "                break\n",
    "            else:\n",
    "                driver.execute_script('window.scrollTo(0,arguments[0]);',bodyHeight)\n",
    "\n",
    "    \n",
    "    return postdict\n",
    "    "
   ]
  },
  {
   "cell_type": "code",
   "execution_count": null,
   "metadata": {},
   "outputs": [],
   "source": [
    "postdict=numberOfPosts(dataf.index[0:5])"
   ]
  },
  {
   "cell_type": "code",
   "execution_count": null,
   "metadata": {},
   "outputs": [],
   "source": [
    "print(postdict)"
   ]
  },
  {
   "cell_type": "code",
   "execution_count": null,
   "metadata": {},
   "outputs": [],
   "source": [
    "# bubble graph\n",
    "# x --> handlerName\n",
    "# y --> number of follwers\n",
    "# bubble size --> number of posts done in last 3 days\n",
    "plt.scatter(dataf.index[0:5],dataf.values[0:5],s=list(postdict.values()),c=\"r\") \n",
    "plt.xticks(rotation=40)"
   ]
  },
  {
   "cell_type": "markdown",
   "metadata": {},
   "source": [
    "# Scrape contents of top 10 posts \n",
    "Open the 5 handles you obtained in the last question, and scrape the content of the first 10 posts of each handle.\n",
    "Prepare a list of all words used in all the scraped posts and calculate the frequency of each word.\n",
    "Create a csv file with two columns : the word and its frequency\n",
    "Now, find the hashtags that were most popular among these bloggers\n",
    "Plot a Pie Chart of the top 5 hashtags obtained and the number of times they were used by these bloggers in the scraped posts."
   ]
  },
  {
   "cell_type": "code",
   "execution_count": null,
   "metadata": {},
   "outputs": [],
   "source": [
    "def scrapeContents(handles):\n",
    "    contents=[]\n",
    "    for handle in handles:\n",
    "        searchAndOpenHandle(driver,handle)\n",
    "        time.sleep(5)\n",
    "        flag=0\n",
    "        postcount=0\n",
    "        prevHeight=0\n",
    "        count=0\n",
    "        posts=driver.find_elements_by_class_name('_9AhH0')\n",
    "        for post in posts[0:10]:\n",
    "            post.click()\n",
    "            wait=WebDriverWait(driver,10)\n",
    "            wait.until(EC.visibility_of_element_located((By.CLASS_NAME,'C4VMK')))\n",
    "            content=driver.find_element_by_class_name('C4VMK')\n",
    "            contents.append(BeautifulSoup(content.get_attribute('innerHTML'),'html.parser'))\n",
    "            close= driver.find_element_by_xpath('//div[contains(@class,\"yiMZG\")]//*[name()=\"svg\"]')\n",
    "            close.click()\n",
    "    return contents\n",
    "    \n",
    "    "
   ]
  },
  {
   "cell_type": "code",
   "execution_count": null,
   "metadata": {},
   "outputs": [],
   "source": [
    "wordsdict={}\n",
    "wordslist=[]\n",
    "data=scrapeContents(dataf.index[0:5])\n",
    "for d in data:\n",
    "    for i in d.contents[1].strings:\n",
    "        for j in i.split(\" \"):\n",
    "            if len(j)!=0:\n",
    "                wordsdict[j]=wordsdict.get(j,0)+1\n",
    "                \n",
    "\n"
   ]
  },
  {
   "cell_type": "code",
   "execution_count": null,
   "metadata": {},
   "outputs": [],
   "source": [
    "# convert to pandas then convert to csv file\n",
    "words_df=pd.DataFrame(list(wordsdict.items()),columns=['word','frequency'])\n",
    "print(words_df)\n",
    "words_df.to_csv('words.csv',index=False)"
   ]
  },
  {
   "cell_type": "code",
   "execution_count": null,
   "metadata": {},
   "outputs": [],
   "source": [
    "df=pd.read_csv('words.csv',encoding='utf-8')\n",
    "hashtagdict={}\n",
    "# to find all the hash tags and hahtagdict dictionary is created\n",
    "for i in range(len(df['word'])):\n",
    "    if(df.iloc[i]['word'].startswith('#')):\n",
    "        hashtagdict[df.iloc[i]['word']]=df.iloc[i]['frequency']\n",
    "print(\"hash tag dict ----> \")\n",
    "print(hashtagdict)\n",
    "hashf=pd.DataFrame(list(hashtagdict.values()),list(hashtagdict.keys()))\n",
    "hashf=hashf.sort_values(by=[0],ascending=False)\n",
    "# sorted pandas dataframe for hashtags\n",
    "print(hashf)"
   ]
  },
  {
   "cell_type": "code",
   "execution_count": null,
   "metadata": {},
   "outputs": [],
   "source": [
    "# labels are hashf dataframe indexes(handler name) and percentage are based on frequency of these hashtags\n",
    "print(\"Top five hashtags ---->\",hashf.index[0:5])\n",
    "plt.pie(hashf[0:5].values, labels=hashf.index[0:5], autopct=\"%.2f%%\",counterclock=False,  startangle=100)\n",
    "plt.show()"
   ]
  },
  {
   "cell_type": "markdown",
   "metadata": {},
   "source": [
    "# scrape likes \n",
    "You need to also calculate average followers : likes ratio for the obtained handles.\n",
    "Followers : Likes ratio is calculated as follows:\n",
    "Find out the likes of the top 10 posts of the 5 handles obtained earlier.\n",
    "Calculate the average likes for a handle.\n",
    "Divide the average likes obtained from the number of followers of the handle to get the average followers:like ratio of each handle.\n",
    "Create a bar graph to depict the above obtained information."
   ]
  },
  {
   "cell_type": "code",
   "execution_count": null,
   "metadata": {},
   "outputs": [],
   "source": [
    "def scrapeLikes(handles):\n",
    "#     contents=[]\n",
    "    avgLikes={}\n",
    "    for handle in handles:\n",
    "        searchAndOpenHandle(driver,handle)\n",
    "        time.sleep(5)\n",
    "        flag=0\n",
    "        postcount=0\n",
    "        prevHeight=0\n",
    "        count=0\n",
    "        posts=driver.find_elements_by_class_name('_9AhH0')\n",
    "        total=0\n",
    "        for post in posts[0:10]:\n",
    "            post.click()\n",
    "            wait=WebDriverWait(driver,10)\n",
    "            try:\n",
    "                wait = WebDriverWait(driver, 6) #Waiting for 10 seconds\n",
    "                wait.until(EC.presence_of_element_located((By.XPATH, \"//div[contains(@class, 'Nm9Fw')]/button/span\")))\n",
    "                likeFind = driver.find_element_by_xpath('//div[contains(@class, \"Nm9Fw\")]/button/span')#\n",
    "                currentLikes = likeFind.text\n",
    "            except:\n",
    "                wait = WebDriverWait(driver, 10) #Waiting for 10 seconds\n",
    "                wait.until(EC.element_to_be_clickable((By.CLASS_NAME, \"vcOH2\")))\n",
    "                viewFind = driver.find_element_by_class_name('vcOH2')\n",
    "                viewFind.click()\n",
    "                wait = WebDriverWait(driver, 10) #Waiting for 10 seconds\n",
    "                wait.until(EC.presence_of_element_located((By.XPATH, \"//div[contains(@class, 'vJRqr')]/span\")))\n",
    "                likeFind = driver.find_element_by_xpath('//div[contains(@class, \"vJRqr\")]/span')#\n",
    "                currentLikes = likeFind.text\n",
    "                body = driver.find_element_by_class_name('QhbhU')#QhbhU\n",
    "                body.click()\n",
    "#             print(currentLikes)\n",
    "            currentLikes=re.sub(',',\"\",currentLikes)\n",
    "#             print(int(re.search('\\d+',currentLikes).group()))\n",
    "            total=total+int(currentLikes)\n",
    "            \n",
    "#             total.append(BeautifulSoup(like.get_attribute('innerHTML'),'html.parser'))\n",
    "\n",
    "#             print(BeautifulSoup(like.get_attribute('innerHTML'),'html.parser'))\n",
    "            close= driver.find_element_by_xpath('//div[contains(@class,\"yiMZG\")]//*[name()=\"svg\"]')\n",
    "            close.click()\n",
    "        avgLikes[handle]=total\n",
    "    return avgLikes"
   ]
  },
  {
   "cell_type": "code",
   "execution_count": null,
   "metadata": {},
   "outputs": [],
   "source": [
    "likedict=scrapeLikes(dataf.index[0:5])\n",
    "print(likedict)"
   ]
  },
  {
   "cell_type": "code",
   "execution_count": null,
   "metadata": {},
   "outputs": [],
   "source": [
    "# print(dataf) # Top 5 handlers with followers \n",
    "# print(likedict) # likes dict\n",
    "ratiodict={}\n",
    "for handle in dataf.index[0:5]:\n",
    "    ratiodict[handle]=dataf[0].loc[handle]/(likedict[handle]/10)\n",
    "    \n",
    "plt.bar(ratiodict.keys(),ratiodict.values())\n",
    "plt.xticks(rotation=40)\n",
    "plt.show()\n",
    "\n",
    "print(ratiodict)\n"
   ]
  }
 ],
 "metadata": {
  "kernelspec": {
   "display_name": "Python (myenv)",
   "language": "python",
   "name": "myenv"
  },
  "language_info": {
   "codemirror_mode": {
    "name": "ipython",
    "version": 3
   },
   "file_extension": ".py",
   "mimetype": "text/x-python",
   "name": "python",
   "nbconvert_exporter": "python",
   "pygments_lexer": "ipython3",
   "version": "3.7.6"
  }
 },
 "nbformat": 4,
 "nbformat_minor": 2
}